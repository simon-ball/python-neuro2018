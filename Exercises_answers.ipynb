{
 "cells": [
  {
   "cell_type": "markdown",
   "metadata": {},
   "source": [
    "# Exercises\n",
    "\n",
    "Learning a language requires _using_ it. This is why I can no longer speak French. \n",
    "\n",
    "This page gives gives a series of exercises for basic analyses of data in the Datajoint pipeline. \n",
    "\n",
    "If you have not yet reconfigured your Datajoint client to access the latest version of the pipeline, you can find details [on the kavli wiki here](https://www.ntnu.no/wiki/display/kavli/DataJoint%3A+Electrophysiology+Pipeline). You will require your NTNU username, database password, and the access and secret keys to the object storage. "
   ]
  },
  {
   "cell_type": "code",
   "execution_count": null,
   "metadata": {},
   "outputs": [],
   "source": [
    "import os\n",
    "import scipy.ndimage\n",
    "import datetime\n",
    "import numpy as np\n",
    "import datajoint as dj\n",
    "import matplotlib.pyplot as plt\n",
    "\n",
    "SECRET_KEY = \"\"\n",
    "ACCESS_KEY = \"\"\n",
    "USER = ''\n",
    "PASS = ''\n",
    "\n",
    "dj.config['database.host'] = 'datajoint.it.ntnu.no'\n",
    "dj.config['database.user'] = USER\n",
    "dj.config['database.password'] = PASS\n",
    "dj.config[\"enable_python_native_blobs\"] = True\n",
    "dj.config[\"cache\"] = \"C:/temp/djcache\"\n",
    "dj.config[\"stores\"] = {   'ephys_store': {   'access_key': ACCESS_KEY,\n",
    "                                     'bucket': 'ephys-store-computed',\n",
    "                                     'endpoint': 's3.stack.it.ntnu.no:443',\n",
    "                                     'secure': True,\n",
    "                                     'location': '',\n",
    "                                     'protocol': 's3',\n",
    "                                     'secret_key': SECRET_KEY},\n",
    "                  'ephys_store_manual': {   'access_key': ACCESS_KEY,\n",
    "                                            'bucket': 'ephys-store-manual',\n",
    "                                            'endpoint': 's3.stack.it.ntnu.no:443',\n",
    "                                            'secure': True,\n",
    "                                            'location': '',\n",
    "                                            'protocol': 's3',\n",
    "                                            'secret_key': SECRET_KEY}}\n",
    "dj.config['custom'] = {\n",
    "        'database.prefix': 'group_shared_',\n",
    "        'mlims.database': 'prod_mlims_data',\n",
    "        'flask.database': 'group_shared_flask',\n",
    "        'drive_config': {\n",
    "          'local': 'C:/',\n",
    "          'network': 'N:/'}}\n",
    "# animal = dj.create_virtual_module('animal', 'prod_mlims_data')\n",
    "# reference = dj.create_virtual_module('reference', 'group_shared_reference')\n",
    "# acquisition = dj.create_virtual_module('acquisition', 'group_shared_acquisition')\n",
    "# tracking = dj.create_virtual_module('tracking', 'group_shared_tracking')\n",
    "# behavior = dj.create_virtual_module('behavior', 'group_shared_behavior')\n",
    "# ephys = dj.create_virtual_module('ephys', 'group_shared_ephys')\n",
    "analysis = dj.create_virtual_module('analysis', 'group_shared_analysis')\n",
    "analysis_param = dj.create_virtual_module('analysis_param', 'group_shared_analysis_param')\n",
    "\n",
    "key = {'animal_id': 'f5e35afe2bf2a9f8',\n",
    " 'datasource_id': 0,\n",
    " 'session_time': datetime.datetime(2019, 11, 11, 12, 45, 59),\n",
    " 'unit': 167,\n",
    " 'task_type': 'OpenField',\n",
    " 'task_start': '21.00',\n",
    " 'task_spike_tracking_hash': '083ff30e220fbe26815e820e54451af6',\n",
    " 'occu_params_name': 'default',\n",
    " 'smoothing_params_name': 'default',\n",
    " 'analysis_package': 'python',\n",
    " 'cell_selection_params_name': 'default',\n",
    " 'field_detect_params_name': 'default',\n",
    " 'score_params_name': 'default'}"
   ]
  },
  {
   "cell_type": "markdown",
   "metadata": {},
   "source": [
    "## Exercise 1: Path maps\n",
    "\n",
    "In the first exercise, you will plot a path and spike map\n",
    "\n",
    "Goal: given a `key` to the Datajoint table `analysis.TaskSpikesTracking`, create and display a path Map for that cell in that task. \n",
    "\n",
    "This one is fairly simple: due to the convenience of Datajoint, you need only fetch four arrays from the database, and plot them directly using `matplotlib`. Don't forget to set the correct aspect ratio. Further, because this is about using Python correctly, not Datajoint in particular, the below code will do the database hevay lifting for you"
   ]
  },
  {
   "cell_type": "code",
   "execution_count": null,
   "metadata": {},
   "outputs": [],
   "source": [
    "pos_t, pos_x, pos_y = (analysis.TaskTracking & key).fetch1(\"task_timestamps\", \"x_pos\", \"y_pos\")\n",
    "spk_t, spk_x, spk_y = (analysis.TaskSpikesTracking & key).fetch1(\"spike_times\", \"x_pos\", \"y_pos\")"
   ]
  },
  {
   "cell_type": "code",
   "execution_count": null,
   "metadata": {},
   "outputs": [],
   "source": [
    "fig, ax = plt.subplots(figsize=(10,10))\n",
    "ax.plot(pos_x, pos_y, \"C1-\", linewidth=0.3)\n",
    "ax.scatter(spk_x, spk_y, s=4)\n",
    "ax.set_aspect(\"equal\")\n",
    "ax.set_xlabel(\"Position [cm]\")\n",
    "ax.set_ylabel(\"Position [cm]\")\n",
    "ax.set_title(\"Path map\")"
   ]
  },
  {
   "cell_type": "markdown",
   "metadata": {},
   "source": [
    "## Exercise 2: Coverage\n",
    "\n",
    "It's useful to know how much of the arena the animal has visited. This requires some manipulation of the data you have acquired so far. IWhat assumptions are you making?\n",
    "\n",
    "**Hint**: You will find the [NumPy Documentation](https://docs.scipy.org/doc/numpy) very useful, and the [2D histogram](https://docs.scipy.org/doc/numpy/reference/generated/numpy.histogram2d.html) function in particular, and it's hard to get anything done with arrays without [meshgrid](https://docs.scipy.org/doc/numpy/reference/generated/numpy.meshgrid.html)"
   ]
  },
  {
   "cell_type": "code",
   "execution_count": null,
   "metadata": {},
   "outputs": [],
   "source": [
    "num_bins = 30\n",
    "time_map, xedge, yedge = np.histogram2d(pos_x, pos_y, bins=num_bins)\n",
    "np.count_nonzero(time_map) / time_map.size"
   ]
  },
  {
   "cell_type": "code",
   "execution_count": null,
   "metadata": {},
   "outputs": [],
   "source": [
    "distance = np.ones(time_map.size)\n",
    "bin_width = abs(xedge[1] - xedge[0])/2\n",
    "X, Y = np.meshgrid(xedge[:-1]-bin_width, yedge[:-1]-bin_width)\n",
    "distance = np.sqrt(X**2 + Y**2)\n",
    "time_map[distance>75] = np.nan\n",
    "np.ma.sum(time_map>0) / (time_map.size - np.sum(np.isnan(time_map)))"
   ]
  },
  {
   "cell_type": "markdown",
   "metadata": {},
   "source": [
    "## Exercise 3: Rate maps\n",
    "\n",
    "A ratemap takes in a list of animal positions, and a list of spike positions, and computes the rate of firing of that unit at each location in an arena. \n",
    "\n",
    "Based on these data, create:\n",
    "* An occupancy map: a binned map of the time the animal spent in each location\n",
    "* A spike map: a binned map of the number of unit spikes in each location\n",
    "* A rate map: the rate at which the unit fires in each location\n",
    "\n",
    "\n",
    "\n"
   ]
  },
  {
   "cell_type": "code",
   "execution_count": null,
   "metadata": {},
   "outputs": [],
   "source": [
    "seconds_per_frame = np.mean(np.diff(pos_t))\n",
    "time_map_frames, xedge, yedge = np.histogram2d(pos_x, pos_y, bins=num_bins)\n",
    "time_map = time_map_frames * frames_per_second\n",
    "spike_map, xedge, yedge = np.histogram2d(spk_x, spk_y, bins=num_bins)\n",
    "rate_map = spike_map / time_map\n",
    "\n",
    "\n",
    "fig, (ax1, ax2, ax3) = plt.subplots(1,3, figsize=(12, 16))\n",
    "ax1.imshow(time_map)\n",
    "ax1.set_title(\"Time map\")\n",
    "ax2.imshow(spike_map)\n",
    "ax2.set_title(\"Spike map\")\n",
    "ax3.imshow(rate_map)\n",
    "ax3.set_title(\"Rate map\")\n"
   ]
  },
  {
   "cell_type": "markdown",
   "metadata": {},
   "source": [
    "# Exercise 4: Smoothing\n",
    "\n",
    "Coarse discretisation like this is highly prone to distortionary boundary effects, which can be ameliorated by smoothing. Conventionally, by smoothing, we mean that each pixel is made more like its neighbours. The fascinating detail (and a significant part of the engineering-physics-maths sub-field of signal processing) is how neighbours are weighted in this calculation\n",
    "\n",
    "This is where analysis starts to become extremely complicated by the distressing existence of boundaries. \n",
    "\n",
    "How we we handle unexpected values?\n",
    "\n",
    "The simplest solution for convolution in Python is to use [`scipy.ndimage.filters.convolve`](https://docs.scipy.org/doc/scipy-0.15.1/reference/generated/scipy.ndimage.filters.convolve.html)\n",
    "\n",
    "This requires a `weights` keyword that determines how we weight the value of each neighbour."
   ]
  },
  {
   "cell_type": "code",
   "execution_count": null,
   "metadata": {},
   "outputs": [],
   "source": [
    "rate_map_smooth = scipy.ndimage.filters.convolve(rate_map, weights=np.ones((3,3)))"
   ]
  },
  {
   "cell_type": "code",
   "execution_count": null,
   "metadata": {},
   "outputs": [],
   "source": [
    "plt.imshow(rate_map_smooth)"
   ]
  },
  {
   "cell_type": "markdown",
   "metadata": {},
   "source": [
    "### Boundary handling\n",
    "\n",
    "As you can see, the borders of the image have shrunk, and the invalid numbers have spread - because if you take an average of a number, and not-a-number, you get not-a-number. \n",
    "\n",
    "We can be a bit more clever about this: we can replace the NaN values with something more meaningful. The obvious choice here is zero - locations that the animal never visited _cannot_ have a meaningful spike rate"
   ]
  },
  {
   "cell_type": "code",
   "execution_count": null,
   "metadata": {},
   "outputs": [],
   "source": [
    "rate_map_finite = rate_map.copy()\n",
    "rate_map_finite[np.isnan(rate_map)] = 0\n",
    "rate_map_finite_smooth = scipy.ndimage.filters.convolve(rate_map_finite, weights=np.ones((3,3)))\n",
    "plt.imshow(rate_map_finite_smooth)"
   ]
  },
  {
   "cell_type": "markdown",
   "metadata": {},
   "source": [
    "### More boundaries\n",
    "\n",
    "The effect of convolution is to \"smear out\" the data, but that still has several problems:\n",
    "1. We're using a \"square-edged\" smear - the choice of weighting leaves something to be desired\n",
    "2. We now have non-zero rates in locations that the animal physically could not visit _because they are outside the box_\n",
    "\n",
    "Solving point 2 is easy: we can re-apply an outside limit using the `distance` array we calculated earlier"
   ]
  },
  {
   "cell_type": "code",
   "execution_count": null,
   "metadata": {},
   "outputs": [],
   "source": [
    "rate_map_finite_smooth[distance>75] = 0\n",
    "plt.imshow(rate_map_finite_smooth)"
   ]
  },
  {
   "cell_type": "markdown",
   "metadata": {},
   "source": [
    "Solving point 1 means using a different `weights` keyword from earlier. A common choice is a Gaussian blur - meaning that values at a greater difference are weighted exponentially lower, according to the Gaussian distribution given by _sigma_\n",
    "\n",
    "We could write our own `weights` array based on a Gaussian... or we could just use the conveniently provided [scipy.ndimage.gaussian_filter](https://docs.scipy.org/doc/scipy/reference/generated/scipy.ndimage.gaussian_filter.html)"
   ]
  },
  {
   "cell_type": "code",
   "execution_count": null,
   "metadata": {},
   "outputs": [],
   "source": [
    "rate_map_finite_smooth_gaussian = scipy.ndimage.gaussian_filter(rate_map_finite, sigma=1.5)\n",
    "rate_map_finite_smooth_gaussian[distance>75] = 0\n",
    "plt.imshow(rate_map_finite_smooth_gaussian)"
   ]
  },
  {
   "cell_type": "markdown",
   "metadata": {},
   "source": [
    "We can also format this better"
   ]
  },
  {
   "cell_type": "code",
   "execution_count": null,
   "metadata": {},
   "outputs": [],
   "source": [
    "fig, ax = plt.subplots(figsize=(6,8))\n",
    "\n",
    "image = ax.imshow(rate_map_finite_smooth_gaussian, cmap=\"gist_earth\")\n",
    "ax.set_axis_off()\n",
    "ax.set_aspect(\"equal\")\n",
    "cax = fig.add_axes([0.95, 0.2125, 0.05, 0.585])\n",
    "cbar = fig.colorbar(image, cax=cax, orientation=\"vertical\")\n",
    "ax.set_title(\"Rate Map\")\n",
    "plt.show()"
   ]
  },
  {
   "cell_type": "code",
   "execution_count": null,
   "metadata": {},
   "outputs": [],
   "source": []
  }
 ],
 "metadata": {
  "kernelspec": {
   "display_name": "dj36",
   "language": "python",
   "name": "dj36"
  },
  "language_info": {
   "codemirror_mode": {
    "name": "ipython",
    "version": 3
   },
   "file_extension": ".py",
   "mimetype": "text/x-python",
   "name": "python",
   "nbconvert_exporter": "python",
   "pygments_lexer": "ipython3",
   "version": "3.6.7"
  }
 },
 "nbformat": 4,
 "nbformat_minor": 4
}
