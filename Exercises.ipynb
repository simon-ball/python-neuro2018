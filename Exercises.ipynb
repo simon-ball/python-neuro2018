{
 "cells": [
  {
   "cell_type": "markdown",
   "metadata": {},
   "source": [
    "# Exercises\n",
    "\n",
    "Learning a language requires _using_ it. This is why I can no longer speak French. \n",
    "\n",
    "This page gives two exercises for you to implement in Python. We will work through them in the workshop and discuss the best way to do them\n"
   ]
  },
  {
   "cell_type": "markdown",
   "metadata": {},
   "source": [
    "## Exercise 1: Ratemaps\n",
    "\n",
    "In the first exercise, you will calculate a Ratemap for cells in the Datajoint pipeline. \n",
    "\n",
    "Goal: given a `key` to the Datajoint table `analysis.TaskSpikesTracking`, create and display a Rate Map for that cell in that task. \n",
    "\n",
    "If you have not yet reconfigured your Datajoint client to access the latest version of the pipeline, you can find details [on the kavli wiki here](https://www.ntnu.no/wiki/display/kavli/DataJoint%3A+Electrophysiology+Pipeline). You will require your NTNU username, database password, and the access and secret keys to the object storage. "
   ]
  },
  {
   "cell_type": "markdown",
   "metadata": {},
   "source": [
    "### Algorithm\n",
    "\n",
    "A ratemap takes in a list of animal positions, and a list of spike positions, and computes the rate of firing of that unit at each location in an arena. The provided code will extract tracking information about the animal's position (`pos_t` (seconds), `pos_x`, `pos_y` (cm)); and spike information ((`spk_t` (seconds), `spk_x`, `spk_y` (cm))\n",
    "\n",
    "Based on these data, create:\n",
    "* An occupancy map: a binned map of the time the animal spent in each location\n",
    "* A spike map: a binned map of the number of unit spikes in each location\n",
    "* A rate map: the rate at which the unit fires in each location\n",
    "\n",
    "Plot the rate map using `matplotlib`\n",
    "\n",
    "**Hint**: You will find the [NumPy Documentation](https://docs.scipy.org/doc/numpy) very useful, and the [2D histogram](https://docs.scipy.org/doc/numpy/reference/generated/numpy.histogram2d.html) function in particular"
   ]
  },
  {
   "cell_type": "code",
   "execution_count": 2,
   "metadata": {},
   "outputs": [
    {
     "name": "stdout",
     "output_type": "stream",
     "text": [
      "Connecting simoba@datajoint.it.ntnu.no:3306\n"
     ]
    }
   ],
   "source": [
    "import os\n",
    "import datetime\n",
    "import numpy as np\n",
    "import datajoint as dj\n",
    "import matplotlib.pyplot as plt\n",
    "\n",
    "SECRET_KEY = \"56523d80ae3c413b91046476a31dc1e6\"\n",
    "ACCESS_KEY = \"942676b240ab4b72951fe09e4c4a65de\"\n",
    "USER = 'simoba'\n",
    "PASS = 'n78IJOQ7'\n",
    "\n",
    "dj.config['database.host'] = 'datajoint.it.ntnu.no'\n",
    "dj.config['database.user'] = USER\n",
    "dj.config['database.password'] = PASS\n",
    "dj.config[\"enable_python_native_blobs\"] = True\n",
    "dj.config[\"stores\"] = {   'ephys_store': {   'access_key': ACCESS_KEY,\n",
    "                                     'bucket': 'ephys-store-computed',\n",
    "                                     'endpoint': 's3.stack.it.ntnu.no:443',\n",
    "                                     'secure': True,\n",
    "                                     'location': '',\n",
    "                                     'protocol': 's3',\n",
    "                                     'secret_key': SECRET_KEY},\n",
    "                  'ephys_store_manual': {   'access_key': ACCESS_KEY,\n",
    "                                            'bucket': 'ephys-store-manual',\n",
    "                                            'endpoint': 's3.stack.it.ntnu.no:443',\n",
    "                                            'secure': True,\n",
    "                                            'location': '',\n",
    "                                            'protocol': 's3',\n",
    "                                            'secret_key': SECRET_KEY}}\n",
    "dj.config['custom'] = {\n",
    "        'database.prefix': 'group_shared_',\n",
    "        'mlims.database': 'prod_mlims_data',\n",
    "        'flask.database': 'group_shared_flask',\n",
    "        'drive_config': {\n",
    "          'local': 'C:/',\n",
    "          'network': 'N:/'}}\n",
    "analysis = dj.create_virtual_module('analysis', 'group_shared_analysis')\n",
    "analysis_param = dj.create_virtual_module('analysis_param', 'group_shared_analysis_param')\n",
    "\n",
    "key = {'animal_id': '40bfa03a7a7018cc',\n",
    " 'datasource_id': 0,\n",
    " 'session_time': datetime.datetime(2019, 9, 27, 15, 50, 36),\n",
    " 'unit': 353,\n",
    " 'task_type': 'OpenField',\n",
    " 'task_start': '6742.00',\n",
    " 'task_spike_tracking_hash': '94d2fad2fbb66aaef6b18cdc51653923',\n",
    " 'occu_params_name': 'megaspace-std-occ',\n",
    " 'smoothing_params_name': 'default',\n",
    " 'analysis_package': 'python',\n",
    " 'cell_selection_params_name': 'default',\n",
    " 'field_detect_params_name': 'default',\n",
    " 'score_params_name': 'default'}"
   ]
  },
  {
   "cell_type": "code",
   "execution_count": 20,
   "metadata": {},
   "outputs": [],
   "source": [
    "pos_t, pos_x, pos_y = (analysis.TaskTracking & key).fetch1(\"task_timestamps\", \"x_pos\", \"y_pos\")\n",
    "spk_t, spk_x, spk_y = (analysis.TaskSpikesTracking & key).fetch1(\"spike_times\", \"x_pos\", \"y_pos\")"
   ]
  },
  {
   "cell_type": "code",
   "execution_count": 21,
   "metadata": {},
   "outputs": [
    {
     "data": {
      "text/html": [
       "\n",
       "        \n",
       "        <style type=\"text/css\">\n",
       "            .Relation{\n",
       "                border-collapse:collapse;\n",
       "            }\n",
       "            .Relation th{\n",
       "                background: #A0A0A0; color: #ffffff; padding:4px; border:#f0e0e0 1px solid;\n",
       "                font-weight: normal; font-family: monospace; font-size: 100%;\n",
       "            }\n",
       "            .Relation td{\n",
       "                padding:4px; border:#f0e0e0 1px solid; font-size:100%;\n",
       "            }\n",
       "            .Relation tr:nth-child(odd){\n",
       "                background: #ffffff;\n",
       "            }\n",
       "            .Relation tr:nth-child(even){\n",
       "                background: #f3f1ff;\n",
       "            }\n",
       "            /* Tooltip container */\n",
       "            .djtooltip {\n",
       "            }\n",
       "            /* Tooltip text */\n",
       "            .djtooltip .djtooltiptext {\n",
       "                visibility: hidden;\n",
       "                width: 120px;\n",
       "                background-color: black;\n",
       "                color: #fff;\n",
       "                text-align: center;\n",
       "                padding: 5px 0;\n",
       "                border-radius: 6px;\n",
       "                /* Position the tooltip text - see examples below! */\n",
       "                position: absolute;\n",
       "                z-index: 1;\n",
       "            }\n",
       "            #primary {\n",
       "                font-weight: bold;\n",
       "                color: black;\n",
       "            }\n",
       "\n",
       "            #nonprimary {\n",
       "                font-weight: normal;\n",
       "                color: white;\n",
       "            }\n",
       "\n",
       "            /* Show the tooltip text when you mouse over the tooltip container */\n",
       "            .djtooltip:hover .djtooltiptext {\n",
       "                visibility: visible;\n",
       "            }\n",
       "        </style>\n",
       "        \n",
       "        <b>Tracking for a particular behavior.Task, relative to the start of task (i.e. task start at t=0)</b>\n",
       "            <div style=\"max-height:1000px;max-width:1500px;overflow:auto;\">\n",
       "            <table border=\"1\" class=\"Relation\">\n",
       "                <thead> <tr style=\"text-align: right;\"> <th> <div class=\"djtooltip\">\n",
       "                                <p id=\"primary\">animal_id</p>\n",
       "                                <span class=\"djtooltiptext\"></span>\n",
       "                            </div></th><th><div class=\"djtooltip\">\n",
       "                                <p id=\"primary\">datasource_id</p>\n",
       "                                <span class=\"djtooltiptext\"></span>\n",
       "                            </div></th><th><div class=\"djtooltip\">\n",
       "                                <p id=\"primary\">session_time</p>\n",
       "                                <span class=\"djtooltiptext\">start time of this session</span>\n",
       "                            </div></th><th><div class=\"djtooltip\">\n",
       "                                <p id=\"primary\">task_type</p>\n",
       "                                <span class=\"djtooltiptext\"></span>\n",
       "                            </div></th><th><div class=\"djtooltip\">\n",
       "                                <p id=\"primary\">task_start</p>\n",
       "                                <span class=\"djtooltiptext\">(s) timestamp of task onset with respect to the start of the session</span>\n",
       "                            </div></th><th><div class=\"djtooltip\">\n",
       "                                <p id=\"nonprimary\">task_timestamps</p>\n",
       "                                <span class=\"djtooltiptext\">(s) task-related spike times (time with respect to the start of the task)</span>\n",
       "                            </div></th><th><div class=\"djtooltip\">\n",
       "                                <p id=\"nonprimary\">speed</p>\n",
       "                                <span class=\"djtooltiptext\">(cm/s) task-related speed</span>\n",
       "                            </div></th><th><div class=\"djtooltip\">\n",
       "                                <p id=\"nonprimary\">x_pos</p>\n",
       "                                <span class=\"djtooltiptext\">(cm) task-related x-pos</span>\n",
       "                            </div></th><th><div class=\"djtooltip\">\n",
       "                                <p id=\"nonprimary\">y_pos</p>\n",
       "                                <span class=\"djtooltiptext\">(cm) task-related y-pos</span>\n",
       "                            </div></th><th><div class=\"djtooltip\">\n",
       "                                <p id=\"nonprimary\">z_pos</p>\n",
       "                                <span class=\"djtooltiptext\">(cm) task-related z-pos</span>\n",
       "                            </div></th><th><div class=\"djtooltip\">\n",
       "                                <p id=\"nonprimary\">head_yaw</p>\n",
       "                                <span class=\"djtooltiptext\">(degree) task-related head yaw (left/right angle)</span>\n",
       "                            </div></th><th><div class=\"djtooltip\">\n",
       "                                <p id=\"nonprimary\">head_pitch</p>\n",
       "                                <span class=\"djtooltiptext\">(degree) task-related head pitch (up/down)</span>\n",
       "                            </div></th><th><div class=\"djtooltip\">\n",
       "                                <p id=\"nonprimary\">head_roll</p>\n",
       "                                <span class=\"djtooltiptext\">(degree) task-related head roll (clockwise/anticlockwise)</span>\n",
       "                            </div></th><th><div class=\"djtooltip\">\n",
       "                                <p id=\"nonprimary\">angular_speed</p>\n",
       "                                <span class=\"djtooltiptext\">(degree/s) task-related head angular speed</span>\n",
       "                            </div> </th> </tr> </thead>\n",
       "                <tbody> <tr> <td>40bfa03a7a7018cc</td>\n",
       "<td>0</td>\n",
       "<td>2019-09-27 15:50:36</td>\n",
       "<td>OpenField</td>\n",
       "<td>6742.00</td>\n",
       "<td>=BLOB=</td>\n",
       "<td>=BLOB=</td>\n",
       "<td>=BLOB=</td>\n",
       "<td>=BLOB=</td>\n",
       "<td>=BLOB=</td>\n",
       "<td>=BLOB=</td>\n",
       "<td>=BLOB=</td>\n",
       "<td>=BLOB=</td>\n",
       "<td>=BLOB=</td> </tr> </tbody>\n",
       "            </table>\n",
       "            \n",
       "            <p>Total: 1</p></div>\n",
       "            "
      ],
      "text/plain": [
       "*animal_id     *datasource_id *session_time  *task_type    *task_start    task_times speed      x_pos      y_pos      z_pos      head_yaw   head_pitch head_roll  angular_sp\n",
       "+------------+ +------------+ +------------+ +-----------+ +------------+ +--------+ +--------+ +--------+ +--------+ +--------+ +--------+ +--------+ +--------+ +--------+\n",
       "40bfa03a7a7018 0              2019-09-27 15: OpenField     6742.00        =BLOB=     =BLOB=     =BLOB=     =BLOB=     =BLOB=     =BLOB=     =BLOB=     =BLOB=     =BLOB=    \n",
       " (Total: 1)"
      ]
     },
     "execution_count": 21,
     "metadata": {},
     "output_type": "execute_result"
    }
   ],
   "source": [
    "(analysis.TaskTracking & key)"
   ]
  },
  {
   "cell_type": "code",
   "execution_count": 36,
   "metadata": {},
   "outputs": [
    {
     "name": "stderr",
     "output_type": "stream",
     "text": [
      "C:\\Users\\simoba\\AppData\\Local\\Continuum\\anaconda3\\envs\\dj\\lib\\site-packages\\ipykernel_launcher.py:10: RuntimeWarning: invalid value encountered in true_divide\n",
      "  # Remove the CWD from sys.path while we load stuff.\n"
     ]
    },
    {
     "data": {
      "text/plain": [
       "<matplotlib.image.AxesImage at 0x24147ce9da0>"
      ]
     },
     "execution_count": 36,
     "metadata": {},
     "output_type": "execute_result"
    },
    {
     "data": {
      "image/png": "[encoded data removed]",
      "text/plain": [
       "<Figure size 864x1152 with 3 Axes>"
      ]
     },
     "metadata": {
      "needs_background": "light"
     },
     "output_type": "display_data"
    }
   ],
   "source": [
    "num_bins = 30\n",
    "\n",
    "time_map, xedge, yedge = np.histogram2d(pos_x, pos_y, bins=num_bins)\n",
    "spike_map, xedge, yedge = np.histogram2d(spk_x, spk_y, bins=num_bins)\n",
    "\n",
    "\n",
    "fig, (ax1, ax2, ax3) = plt.subplots(1,3, figsize=(12, 16))\n",
    "ax1.imshow(time_map)\n",
    "ax2.imshow(spike_map)\n",
    "ax3.imshow(spike_map/time_map)\n"
   ]
  },
  {
   "cell_type": "markdown",
   "metadata": {},
   "source": [
    "## Exercise 2: Working with less-structured data\n",
    "\n",
    "Fortunately, the Datajoint framework gives us a repository for storing strongly structured data, making it much easier to query. Not everything is so nice, however. In the /data folder are 2 data file from my PhD work, `photons_1.txt`, `photons_2.txt`. The first is small and useful for testing. The second will take rather more time to work with, but is much mroe interesting. \n",
    "\n",
    "`photons_2.txt` contains approximately 2.2 million lines of data. Each line is structured as follows:\n",
    "* 12 hexadecimal digits of a 200MHz clock counter (i.e. each tick is 5ns)\n",
    "* 4 hexadecimal digits, each corresponding to one channel of the photon detection system. \n",
    "  - 0 - detector off\n",
    "  - 4 - detector on\n",
    "  - 5 - detector on, new shot trigger on (channel 4 only)\n",
    "  - 6 - photon detected\n",
    "  - 7 - photon detected, new shot trigger on (channel 4 only)\n",
    "\n",
    "Given metadata that:\n",
    "1. Each 25000 shots constitute one cycle\n",
    "2. Each 41 cycles constitute one experimental repeat\n",
    "3. Each repeat can be summed with each other repeat\n",
    "Plot the number of photons detected as a function of each shot"
   ]
  },
  {
   "cell_type": "markdown",
   "metadata": {},
   "source": [
    "#### Algorithm\n",
    "* Load the data file\n",
    "* Iterate over the data to go from string to three arrays (`time`, `values`, `new_shot`)\n",
    "* \n",
    "\n",
    "\n",
    "**Hints**:\n",
    "* You can convert from a hex string to a number with `int(hex_string, 16)`\n",
    "* Remember that you can index a string just like a list"
   ]
  },
  {
   "cell_type": "code",
   "execution_count": 10,
   "metadata": {},
   "outputs": [],
   "source": [
    "with open(\"data/photons_2.txt\",\"r\") as f:\n",
    "    data = f.readlines()\n",
    "times = np.zeros(len(data))\n",
    "values = np.zeros((len(data), 4))\n",
    "new_shot = np.zeros(len(data)).astype(bool)\n",
    "for i, row in enumerate(data):\n",
    "    times[i] = int(row[:12], 16) * 5e-9 # Separate times and convert to number of cycles, then to seconds\n",
    "    values[i] = np.floor( np.array(list(row[12:16])).astype(int)/6 ) # separate channels and convert to whether photon observed\n",
    "    new_shot[i] = int(row[15])%2 != 0 # If the final channel is odd, then the new_cycle is true\n"
   ]
  },
  {
   "cell_type": "code",
   "execution_count": 19,
   "metadata": {},
   "outputs": [],
   "source": [
    "# Plot as frequency scan\n",
    "## Sum all photons counted within a single iterated value\n",
    "\n",
    "shots_per_cycle = 25000\n",
    "iterations = 41\n",
    "photons = np.zeros(iterations)\n",
    "shot = 0\n",
    "for i in range(len(times)):\n",
    "    shot += int(new_shot[i])\n",
    "    iteration = int(shot/shots_per_cycle)%iterations\n",
    "    photons[iteration] += np.sum(values[i])\n"
   ]
  },
  {
   "cell_type": "code",
   "execution_count": 20,
   "metadata": {},
   "outputs": [
    {
     "data": {
      "text/plain": [
       "[<matplotlib.lines.Line2D at 0x257dbc67668>]"
      ]
     },
     "execution_count": 20,
     "metadata": {},
     "output_type": "execute_result"
    },
    {
     "data": {
      "image/png": "[encoded data removed]",
      "text/plain": [
       "<Figure size 432x288 with 1 Axes>"
      ]
     },
     "metadata": {
      "needs_background": "light"
     },
     "output_type": "display_data"
    }
   ],
   "source": [
    "plt.plot(photons)"
   ]
  },
  {
   "cell_type": "code",
   "execution_count": 15,
   "metadata": {},
   "outputs": [
    {
     "ename": "IndexError",
     "evalue": "index 25628493 is out of bounds for axis 0 with size 22",
     "output_type": "error",
     "traceback": [
      "\u001b[1;31m---------------------------------------------------------------------------\u001b[0m",
      "\u001b[1;31mIndexError\u001b[0m                                Traceback (most recent call last)",
      "\u001b[1;32m<ipython-input-15-b704cc7dc4b9>\u001b[0m in \u001b[0;36m<module>\u001b[1;34m\u001b[0m\n\u001b[0;32m      9\u001b[0m         \u001b[0mzero\u001b[0m \u001b[1;33m=\u001b[0m \u001b[0mtimes\u001b[0m\u001b[1;33m[\u001b[0m\u001b[0mi\u001b[0m\u001b[1;33m]\u001b[0m\u001b[1;33m\u001b[0m\u001b[1;33m\u001b[0m\u001b[0m\n\u001b[0;32m     10\u001b[0m     \u001b[0mj\u001b[0m \u001b[1;33m=\u001b[0m \u001b[0mint\u001b[0m\u001b[1;33m(\u001b[0m\u001b[1;33m(\u001b[0m\u001b[0mtimes\u001b[0m\u001b[1;33m[\u001b[0m\u001b[0mi\u001b[0m\u001b[1;33m]\u001b[0m \u001b[1;33m-\u001b[0m \u001b[0mzero\u001b[0m\u001b[1;33m)\u001b[0m\u001b[1;33m/\u001b[0m\u001b[1;36m5e-9\u001b[0m\u001b[1;33m)\u001b[0m\u001b[1;33m\u001b[0m\u001b[1;33m\u001b[0m\u001b[0m\n\u001b[1;32m---> 11\u001b[1;33m     \u001b[0mphotons\u001b[0m\u001b[1;33m[\u001b[0m\u001b[0mj\u001b[0m\u001b[1;33m]\u001b[0m \u001b[1;33m+=\u001b[0m \u001b[0mnp\u001b[0m\u001b[1;33m.\u001b[0m\u001b[0msum\u001b[0m\u001b[1;33m(\u001b[0m\u001b[0mvalues\u001b[0m\u001b[1;33m[\u001b[0m\u001b[0mi\u001b[0m\u001b[1;33m]\u001b[0m\u001b[1;33m)\u001b[0m\u001b[1;33m\u001b[0m\u001b[1;33m\u001b[0m\u001b[0m\n\u001b[0m\u001b[0;32m     12\u001b[0m \u001b[1;33m\u001b[0m\u001b[0m\n",
      "\u001b[1;31mIndexError\u001b[0m: index 25628493 is out of bounds for axis 0 with size 22"
     ]
    }
   ],
   "source": [
    "# Plot as storage\n",
    "## Sum all photons occurred within the same clock cycle after the beginning of the shot\n",
    "\n",
    "cycles_per_shot = int(np.mean(np.diff(times[new_shot])/5e-9))\n",
    "photons = np.zeros(cycles_per_shot)\n",
    "zero = times[0]\n",
    "for i in range(len(times)):\n",
    "    if new_shot[i]:\n",
    "        zero = times[i]\n",
    "    j = int((times[i] - zero)/5e-9)\n",
    "    photons[j] += np.sum(values[i])\n",
    "    "
   ]
  },
  {
   "cell_type": "code",
   "execution_count": 13,
   "metadata": {},
   "outputs": [
    {
     "data": {
      "text/plain": [
       "array([910., 910., 910., ..., 910., 910., 910.])"
      ]
     },
     "execution_count": 13,
     "metadata": {},
     "output_type": "execute_result"
    }
   ],
   "source": [
    "np.diff(times[new_shot])/5e-9"
   ]
  },
  {
   "cell_type": "code",
   "execution_count": 16,
   "metadata": {},
   "outputs": [
    {
     "data": {
      "text/plain": [
       "array([False, False, False, ..., False,  True, False])"
      ]
     },
     "execution_count": 16,
     "metadata": {},
     "output_type": "execute_result"
    }
   ],
   "source": [
    "new_shot"
   ]
  },
  {
   "cell_type": "code",
   "execution_count": null,
   "metadata": {},
   "outputs": [],
   "source": []
  }
 ],
 "metadata": {
  "kernelspec": {
   "display_name": "dj36",
   "language": "python",
   "name": "dj36"
  },
  "language_info": {
   "codemirror_mode": {
    "name": "ipython",
    "version": 3
   },
   "file_extension": ".py",
   "mimetype": "text/x-python",
   "name": "python",
   "nbconvert_exporter": "python",
   "pygments_lexer": "ipython3",
   "version": "3.6.7"
  }
 },
 "nbformat": 4,
 "nbformat_minor": 4
}
